{
  "nbformat": 4,
  "nbformat_minor": 0,
  "metadata": {
    "colab": {
      "name": "Untitled3.ipynb",
      "provenance": []
    },
    "kernelspec": {
      "name": "python3",
      "display_name": "Python 3"
    }
  },
  "cells": [
    {
      "cell_type": "markdown",
      "metadata": {
        "id": "5z21IAAhpApA"
      },
      "source": [
        "# **uso de microsoft cognitive**\r\n",
        "Instalación del paquete de Microsoft para consumir los servicios cognitivos de visión."
      ]
    },
    {
      "cell_type": "code",
      "metadata": {
        "id": "371uTU6eo8sX"
      },
      "source": [
        "!pip install --upgrade azure-cognitiveservices-vision-computervision -q"
      ],
      "execution_count": null,
      "outputs": []
    },
    {
      "cell_type": "markdown",
      "metadata": {
        "id": "wQGxx4QapTTk"
      },
      "source": [
        "Importamos las bibliotecas de funciones que vamos a utilizar."
      ]
    },
    {
      "cell_type": "code",
      "metadata": {
        "colab": {
          "base_uri": "https://localhost:8080/",
          "height": 374
        },
        "id": "eaq1OBuhpVyj",
        "outputId": "da0bf5c6-0d73-4986-fd89-7ff094299aed"
      },
      "source": [
        "# Funcionalidades para conectarnos con nuestro recurso de Cognitive Services\r\n",
        "# y validar nuestro acceso.\r\n",
        "from azure.cognitiveservices.vision.computervision import ComputerVisionClient\r\n",
        "from azure.cognitiveservices.vision.computervision.models import OperationStatusCodes\r\n",
        "from azure.cognitiveservices.vision.computervision.models import VisualFeatureTypes\r\n",
        "from msrest.authentication import CognitiveServicesCredentials\r\n",
        "\r\n",
        "# Paquetería de Python para acceder a recursos de la máquina.\r\n",
        "from array import array\r\n",
        "import os\r\n",
        "from PIL import Image # Este es para trabajar con imágenes.\r\n",
        "import sys\r\n",
        "import time"
      ],
      "execution_count": 1,
      "outputs": [
        {
          "output_type": "error",
          "ename": "ModuleNotFoundError",
          "evalue": "ignored",
          "traceback": [
            "\u001b[0;31m---------------------------------------------------------------------------\u001b[0m",
            "\u001b[0;31mModuleNotFoundError\u001b[0m                       Traceback (most recent call last)",
            "\u001b[0;32m<ipython-input-1-a26c2490483f>\u001b[0m in \u001b[0;36m<module>\u001b[0;34m()\u001b[0m\n\u001b[1;32m      1\u001b[0m \u001b[0;31m# Funcionalidades para conectarnos con nuestro recurso de Cognitive Services\u001b[0m\u001b[0;34m\u001b[0m\u001b[0;34m\u001b[0m\u001b[0;34m\u001b[0m\u001b[0m\n\u001b[1;32m      2\u001b[0m \u001b[0;31m# y validar nuestro acceso.\u001b[0m\u001b[0;34m\u001b[0m\u001b[0;34m\u001b[0m\u001b[0;34m\u001b[0m\u001b[0m\n\u001b[0;32m----> 3\u001b[0;31m \u001b[0;32mfrom\u001b[0m \u001b[0mazure\u001b[0m\u001b[0;34m.\u001b[0m\u001b[0mcognitiveservices\u001b[0m\u001b[0;34m.\u001b[0m\u001b[0mvision\u001b[0m\u001b[0;34m.\u001b[0m\u001b[0mcomputervision\u001b[0m \u001b[0;32mimport\u001b[0m \u001b[0mComputerVisionClient\u001b[0m\u001b[0;34m\u001b[0m\u001b[0;34m\u001b[0m\u001b[0m\n\u001b[0m\u001b[1;32m      4\u001b[0m \u001b[0;32mfrom\u001b[0m \u001b[0mazure\u001b[0m\u001b[0;34m.\u001b[0m\u001b[0mcognitiveservices\u001b[0m\u001b[0;34m.\u001b[0m\u001b[0mvision\u001b[0m\u001b[0;34m.\u001b[0m\u001b[0mcomputervision\u001b[0m\u001b[0;34m.\u001b[0m\u001b[0mmodels\u001b[0m \u001b[0;32mimport\u001b[0m \u001b[0mOperationStatusCodes\u001b[0m\u001b[0;34m\u001b[0m\u001b[0;34m\u001b[0m\u001b[0m\n\u001b[1;32m      5\u001b[0m \u001b[0;32mfrom\u001b[0m \u001b[0mazure\u001b[0m\u001b[0;34m.\u001b[0m\u001b[0mcognitiveservices\u001b[0m\u001b[0;34m.\u001b[0m\u001b[0mvision\u001b[0m\u001b[0;34m.\u001b[0m\u001b[0mcomputervision\u001b[0m\u001b[0;34m.\u001b[0m\u001b[0mmodels\u001b[0m \u001b[0;32mimport\u001b[0m \u001b[0mVisualFeatureTypes\u001b[0m\u001b[0;34m\u001b[0m\u001b[0;34m\u001b[0m\u001b[0m\n",
            "\u001b[0;31mModuleNotFoundError\u001b[0m: No module named 'azure'",
            "",
            "\u001b[0;31m---------------------------------------------------------------------------\u001b[0;32m\nNOTE: If your import is failing due to a missing package, you can\nmanually install dependencies using either !pip or !apt.\n\nTo view examples of installing some common dependencies, click the\n\"Open Examples\" button below.\n\u001b[0;31m---------------------------------------------------------------------------\u001b[0m\n"
          ]
        }
      ]
    },
    {
      "cell_type": "markdown",
      "metadata": {
        "id": "wyXmlBw8pb95"
      },
      "source": [
        "Lo primero es que necesitamos autenticar nuestro acceso para consumir el recurso."
      ]
    },
    {
      "cell_type": "code",
      "metadata": {
        "id": "4Jm0iUz3pdKo"
      },
      "source": [
        "endpoint = \"\"\r\n",
        "subscription_key = \"\"\r\n",
        "\r\n",
        "computervision_client = ComputerVisionClient(endpoint, CognitiveServicesCredentials(subscription_key))"
      ],
      "execution_count": null,
      "outputs": []
    },
    {
      "cell_type": "markdown",
      "metadata": {
        "id": "4Vm8xB72pgL1"
      },
      "source": [
        "Procedemos a consumir el servicio para analizar una imagen."
      ]
    },
    {
      "cell_type": "code",
      "metadata": {
        "id": "ePd59QwZplZ7"
      },
      "source": [
        "# Ponemos un URL de la imagen que vamos a analizar\r\n",
        "remote_image_url = \"https://www.eloccidental.com.mx/incoming/7djvfi-talent-land_dia3.jpg/ALTERNATES/LANDSCAPE_400/Talent%20land_d%C3%ADa3.jpg\""
      ],
      "execution_count": null,
      "outputs": []
    },
    {
      "cell_type": "code",
      "metadata": {
        "id": "ci9QK0UqpsTe"
      },
      "source": [
        "# Descripción de los contenidos de una imagen\r\n",
        "print(\"===== Vamos a describir el contenido de la imagen :D =====\")\r\n",
        "\r\n",
        "# Consumimos el servicio de Computer Vision\r\n",
        "description_results = computervision_client.describe_image(remote_image_url)"
      ],
      "execution_count": null,
      "outputs": []
    },
    {
      "cell_type": "code",
      "metadata": {
        "id": "q2RCiv53pw2u"
      },
      "source": [
        "from pprint import pprint\r\n",
        "\r\n",
        "pprint(description_results.as_dict())"
      ],
      "execution_count": null,
      "outputs": []
    },
    {
      "cell_type": "code",
      "metadata": {
        "id": "iLglDLmqpw-e"
      },
      "source": [
        "# Jala las descripciones de la respuesta\r\n",
        "print(\"Descripción de la imagen: \")\r\n",
        "if (len(description_results.captions) == 0):\r\n",
        "    print(\"No description detected.\")\r\n",
        "else:\r\n",
        "    for caption in description_results.captions:\r\n",
        "        print(\"'{}' with confidence {:.2f}%\".format(caption.text, caption.confidence * 100))"
      ],
      "execution_count": null,
      "outputs": []
    },
    {
      "cell_type": "code",
      "metadata": {
        "id": "kFJmut38pxCF"
      },
      "source": [
        "print(\"Descripción de la imagen: \")\r\n",
        "if len(description_results.as_dict()['captions']) > 0:\r\n",
        "    print(\"Encontré algo:\")\r\n",
        "    for elemento in description_results.as_dict()['captions']:\r\n",
        "        print(elemento[\"text\"])\r\n",
        "else:\r\n",
        "    print(\"No encontré nada.\")"
      ],
      "execution_count": null,
      "outputs": []
    }
  ]
}