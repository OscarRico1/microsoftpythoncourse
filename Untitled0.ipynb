{
  "nbformat": 4,
  "nbformat_minor": 0,
  "metadata": {
    "colab": {
      "name": "Untitled0.ipynb",
      "provenance": []
    },
    "kernelspec": {
      "name": "python3",
      "display_name": "Python 3"
    }
  },
  "cells": [
    {
      "cell_type": "markdown",
      "metadata": {
        "id": "63jK56uv2MHM"
      },
      "source": [
        "#**I/O - ¡Hola mundo!**\r\n",
        "\r\n",
        "\r\n",
        "```\r\n",
        "#estrada y salida de datos\r\n",
        "#entrada\r\n",
        "id = imput('ingresa en que año estas: ')\r\n",
        "id = int(input('ingresa en que año estas: ')\r\n",
        "#salida\r\n",
        "print('hola')\r\n",
        "print('el año es ', id)\r\n",
        "```\r\n",
        "\r\n"
      ]
    },
    {
      "cell_type": "code",
      "metadata": {
        "colab": {
          "base_uri": "https://localhost:8080/"
        },
        "id": "VoN4ZpmS2Irh",
        "outputId": "159ae2f0-c949-4f34-8ff5-9b79479fb206"
      },
      "source": [
        "#impresion basica (Output)\r\n",
        "print('¡Hola Mundo!')"
      ],
      "execution_count": 1,
      "outputs": [
        {
          "output_type": "stream",
          "text": [
            "Hola Mundo\n"
          ],
          "name": "stdout"
        }
      ]
    },
    {
      "cell_type": "code",
      "metadata": {
        "colab": {
          "base_uri": "https://localhost:8080/",
          "height": 53
        },
        "id": "wqIKTfsn3EoJ",
        "outputId": "800e9a51-a031-48b0-c3ea-ac478e00be53"
      },
      "source": [
        "#ingreso de datos (Input)\r\n",
        "input('Ingresa tu edad: ')"
      ],
      "execution_count": 2,
      "outputs": [
        {
          "output_type": "stream",
          "text": [
            "Ingresa tu edad: 24\n"
          ],
          "name": "stdout"
        },
        {
          "output_type": "execute_result",
          "data": {
            "application/vnd.google.colaboratory.intrinsic+json": {
              "type": "string"
            },
            "text/plain": [
              "'24'"
            ]
          },
          "metadata": {
            "tags": []
          },
          "execution_count": 2
        }
      ]
    },
    {
      "cell_type": "code",
      "metadata": {
        "colab": {
          "base_uri": "https://localhost:8080/"
        },
        "id": "QpiYhuH93a8l",
        "outputId": "ef1511df-af68-4ba8-a40e-eafa7bdef9e5"
      },
      "source": [
        "#ingreso e impresion de datos (I/O, INPUT/OUTPUT)\r\n",
        "edad = int(input('Ingresa tu edad: '))\r\n",
        "print('Tu edad es ', edad)"
      ],
      "execution_count": 8,
      "outputs": [
        {
          "output_type": "stream",
          "text": [
            "Ingresa tu edad: 24\n",
            "tu edad es  24\n"
          ],
          "name": "stdout"
        }
      ]
    },
    {
      "cell_type": "markdown",
      "metadata": {
        "id": "nW2N48ZZ2Kfv"
      },
      "source": [
        "#**Variables**\r\n",
        "\r\n",
        "\r\n",
        "```\r\n",
        "#String\r\n",
        "name = 'Oscar'\r\n",
        "#int\r\n",
        "num = 123\r\n",
        "age = 24\r\n",
        "#float\r\n",
        "pi = 3.1416\r\n",
        "ed = float (age)\r\n",
        "\r\n",
        "print(name, age)\r\n",
        "print(type(name), type(age)\r\n",
        "```\r\n",
        "\r\n",
        "\r\n",
        "\r\n"
      ]
    },
    {
      "cell_type": "code",
      "metadata": {
        "id": "JdQdEUPt5Sh0"
      },
      "source": [
        "#variable de tipo int\r\n",
        "age = 24\r\n",
        "#variable de tipo String\r\n",
        "name = 'Oscar'"
      ],
      "execution_count": 31,
      "outputs": []
    },
    {
      "cell_type": "code",
      "metadata": {
        "colab": {
          "base_uri": "https://localhost:8080/"
        },
        "id": "0b7STTHB4pHm",
        "outputId": "a7fe4142-1efe-4967-8294-6d9536ab38dc"
      },
      "source": [
        "print(age)\r\n",
        "print(name)"
      ],
      "execution_count": 32,
      "outputs": [
        {
          "output_type": "stream",
          "text": [
            "24\n"
          ],
          "name": "stdout"
        }
      ]
    },
    {
      "cell_type": "code",
      "metadata": {
        "colab": {
          "base_uri": "https://localhost:8080/"
        },
        "id": "8pYxHPQf7xgS",
        "outputId": "06eea40b-9138-4c71-928a-193de871521c"
      },
      "source": [
        "print('Name: ', edad)\r\n",
        "print('Edad: ', age)"
      ],
      "execution_count": 33,
      "outputs": [
        {
          "output_type": "stream",
          "text": [
            "name:  24\n",
            "edad:  24\n"
          ],
          "name": "stdout"
        }
      ]
    },
    {
      "cell_type": "code",
      "metadata": {
        "colab": {
          "base_uri": "https://localhost:8080/"
        },
        "id": "gcBfUQ3z8Gbq",
        "outputId": "1086a7b5-a54c-4fd1-bab9-9d1767168c17"
      },
      "source": [
        "#impresion de tipo de dato de variables\r\n",
        "print('Edad: ',type(age), ', Name: ',type(name))"
      ],
      "execution_count": 34,
      "outputs": [
        {
          "output_type": "stream",
          "text": [
            "edad:  <class 'int'> , name:  <class 'str'>\n"
          ],
          "name": "stdout"
        }
      ]
    },
    {
      "cell_type": "markdown",
      "metadata": {
        "id": "u1xQHyFC7f_1"
      },
      "source": [
        "#**Operaciones básicas**\r\n",
        "\r\n",
        "\r\n",
        "```\r\n",
        "operaciones aritmeticas: (+, -, *, /, //, **, %)\r\n",
        "operaciones de comparacion: (<, >, <=, >=, ==, !=)\r\n",
        "operaciones logicas:(AND, OR, NOT)\r\n",
        "```\r\n",
        "\r\n"
      ]
    },
    {
      "cell_type": "code",
      "metadata": {
        "colab": {
          "base_uri": "https://localhost:8080/"
        },
        "id": "dImjqqPO9PZh",
        "outputId": "a09502b2-bd65-4b6a-e44b-d02e3a70daed"
      },
      "source": [
        "#operaciones aritmeticas\r\n",
        "#suma\r\n",
        "suma = 5 + 19\r\n",
        "print('La suma de 5+19 es: ', suma)\r\n",
        "print('La suma de 5+19 es: ', 5 + 19)\r\n",
        "#resta\r\n",
        "resta = 6 - 3\r\n",
        "print('La resta de 6-3 es: ', resta)\r\n",
        "print('La resta de 6-3 es: ', 6 - 3)\r\n",
        "#multiplicacion\r\n",
        "multiplicacion = 3 * 3\r\n",
        "print('La multiplicacion de 3*3 es: ', multiplicacion)\r\n",
        "print('La multiplicacion de 3*3 es: ', 3 * 3)\r\n",
        "#division\r\n",
        "division = 8 / 2\r\n",
        "print('La division de 8/2 es: ', division)\r\n",
        "print('La division de 8/2 es: ', 8 / 2)\r\n",
        "#eliminacion del residuo\r\n",
        "print('La division de 8/2 es: ', 8 // 2)\r\n",
        "#muestra el residuo\r\n",
        "print('La division de 8/2.1 es: ', 8 % 2.1)\r\n",
        "#potencia\r\n",
        "print('La potencia de 3^3: ', 3**3)\r\n",
        "#raiz cuadrada\r\n",
        "print('La raiz cuadrada de 89 es: ', 89 ** 0.5)"
      ],
      "execution_count": 40,
      "outputs": [
        {
          "output_type": "stream",
          "text": [
            "La suma de 5+19 es:  24\n",
            "La suma de 5+19 es:  24\n",
            "La resta de 6-3 es:  3\n",
            "La resta de 6-3 es:  3\n",
            "La multiplicacion de 3*3 es:  9\n",
            "La multiplicacion de 3*3 es:  9\n",
            "La division de 8/2 es:  4.0\n",
            "La division de 8/2 es:  4.0\n",
            "La division de 8/2 es:  4\n",
            "La division de 8/2.1 es:  1.6999999999999997\n",
            "La potencia de 3^3:  27\n",
            "La raiz cuadrada de 89 es:  9.433981132056603\n"
          ],
          "name": "stdout"
        }
      ]
    },
    {
      "cell_type": "code",
      "metadata": {
        "colab": {
          "base_uri": "https://localhost:8080/"
        },
        "id": "VMTL3WDz-gjd",
        "outputId": "22c43070-48c8-4184-86ea-7a0f1ce6bbb9"
      },
      "source": [
        "#operaciones de comparacion\r\n",
        "#menor que\r\n",
        "va1 = 4 < 7\r\n",
        "print('4<7 es: ',va1)\r\n",
        "#mayor que\r\n",
        "va2 = 5 > 6\r\n",
        "print('5>6 es: ',va2)\r\n",
        "#mayor o igual que\r\n",
        "va3 = 5 >= 1\r\n",
        "print('5>=1 es: ', va3)\r\n",
        "#menor o igual que\r\n",
        "va4 = 7 <= 5\r\n",
        "print('7<=5 es: ', va4)\r\n",
        "#igual que\r\n",
        "va5 = 6 == 7\r\n",
        "print('6==7 es: ', va5)\r\n",
        "#diferente de\r\n",
        "va6 = 6 != 8\r\n",
        "print('6!=8 es: ', va6)"
      ],
      "execution_count": 48,
      "outputs": [
        {
          "output_type": "stream",
          "text": [
            "4<7 es:  True\n",
            "5>6 es:  False\n",
            "5>=1 es:  True\n",
            "7<=5 es:  False\n",
            "6==7 es:  False\n",
            "6!=8 es:  True\n"
          ],
          "name": "stdout"
        }
      ]
    },
    {
      "cell_type": "code",
      "metadata": {
        "colab": {
          "base_uri": "https://localhost:8080/"
        },
        "id": "U0RWnDEa-gsB",
        "outputId": "0f526295-dccd-41bc-8aef-ada2e557eedf"
      },
      "source": [
        "#operaciones logicas\r\n",
        "x = 13\r\n",
        "y = 17\r\n",
        "#AND\r\n",
        "and1 = (x > 10 and y > 10)\r\n",
        "print('AND es: ', and1)\r\n",
        "#OR\r\n",
        "or1 = (x > 14 or y > 14)\r\n",
        "print('OR es:', or1)\r\n",
        "#NOT\r\n",
        "not1 = not (x > 10 and y > 10)\r\n",
        "print('NOT es:', not1)"
      ],
      "execution_count": 51,
      "outputs": [
        {
          "output_type": "stream",
          "text": [
            "AND es:  True\n",
            "OR es: True\n",
            "NOT es: False\n"
          ],
          "name": "stdout"
        }
      ]
    },
    {
      "cell_type": "markdown",
      "metadata": {
        "id": "VeROEzEAFewS"
      },
      "source": [
        "#**condicionales**\r\n",
        "\r\n",
        "\r\n",
        "```\r\n",
        "# Esto tiene formato de código\r\n",
        "if condition:\r\n",
        "  #bloque de codigo\r\n",
        "elif condition:\r\n",
        "  #bloque de codigo\r\n",
        "else: \r\n",
        "  #bloque de codigo\r\n",
        "```\r\n",
        "\r\n",
        "\r\n"
      ]
    },
    {
      "cell_type": "code",
      "metadata": {
        "colab": {
          "base_uri": "https://localhost:8080/"
        },
        "id": "XFsK59Qb-gzv",
        "outputId": "47e535b2-6f9f-470a-9a1a-ac03ab84936d"
      },
      "source": [
        "edad = 24\r\n",
        "if edad >= 18:\r\n",
        "  print('Eres mayor de edad')\r\n",
        "elif edad < 18:\r\n",
        "  print('Eres menor de edad')\r\n",
        "else:\r\n",
        "  print('No aplica')"
      ],
      "execution_count": 54,
      "outputs": [
        {
          "output_type": "stream",
          "text": [
            "Eres mayor de edad\n"
          ],
          "name": "stdout"
        }
      ]
    },
    {
      "cell_type": "code",
      "metadata": {
        "colab": {
          "base_uri": "https://localhost:8080/"
        },
        "id": "8rFoprjlKJUz",
        "outputId": "8e5667f9-fe6c-4cc7-cfd2-eff5921d554c"
      },
      "source": [
        "a1 = 1996\r\n",
        "a2 = 2021\r\n",
        "if a1 >= a2:\r\n",
        "  print('1996 es mayor o igual que 2021')\r\n",
        "elif a1 <= a2:\r\n",
        "  print('1996 es menor o igual que 2021')\r\n",
        "else:\r\n",
        "  print('Esta muy lejos ese año')"
      ],
      "execution_count": 56,
      "outputs": [
        {
          "output_type": "stream",
          "text": [
            "1996 es menor o igual que 2021\n"
          ],
          "name": "stdout"
        }
      ]
    },
    {
      "cell_type": "code",
      "metadata": {
        "colab": {
          "base_uri": "https://localhost:8080/"
        },
        "id": "oT3SHCx8MdPL",
        "outputId": "bec4dcc8-b922-4df8-b2c4-3aed022d050b"
      },
      "source": [
        "op1 = 18\r\n",
        "op2 = 17\r\n",
        "if op1 >= 18 and op2 >= 18:\r\n",
        "  print('Ambos son mayores de edad') \r\n",
        "elif op1 < 18 and op2 <= 18:\r\n",
        "  print('Ambos son menores de edad')\r\n",
        "elif op1 >= 18 and op2 < 18:\r\n",
        "  print('op1 es mayor de edad, op2 es menor de edad')\r\n",
        "elif op1 < 18 and op2 >= 18:\r\n",
        "  print('Error')\r\n",
        "else:\r\n",
        "  print('no aplica')\r\n"
      ],
      "execution_count": 62,
      "outputs": [
        {
          "output_type": "stream",
          "text": [
            "op1 es mayor de edad, op2 es menor de edad\n"
          ],
          "name": "stdout"
        }
      ]
    },
    {
      "cell_type": "code",
      "metadata": {
        "colab": {
          "base_uri": "https://localhost:8080/"
        },
        "id": "x4ZWbXYfLvy_",
        "outputId": "e8cf33d4-60cf-435c-c36a-0a50e8f7c8ed"
      },
      "source": [
        "carro = 'Focus'\r\n",
        "color = 'blanco'\r\n",
        "if carro == 'Focus':\r\n",
        "  if color == 'blanco':\r\n",
        "    print('Es mi carro')\r\n",
        "elif carro == 'Fiesta':\r\n",
        "  if color == 'azul':\r\n",
        "    print('Es el carro del vecino')\r\n",
        "else:\r\n",
        "  print('Quien sabe de quien es')\r\n"
      ],
      "execution_count": 59,
      "outputs": [
        {
          "output_type": "stream",
          "text": [
            "Es mi carro\n"
          ],
          "name": "stdout"
        }
      ]
    },
    {
      "cell_type": "markdown",
      "metadata": {
        "id": "CWHE2bPmOHQL"
      },
      "source": [
        "#**Numeros complejos**\r\n",
        "complemento\r\n",
        "\r\n",
        "```\r\n",
        "com1 = 16 + 7j\r\n",
        "```\r\n",
        "\r\n"
      ]
    },
    {
      "cell_type": "code",
      "metadata": {
        "colab": {
          "base_uri": "https://localhost:8080/"
        },
        "id": "tjg7_fJQOQ6U",
        "outputId": "e66f86b5-3408-4360-809d-4539003a91bc"
      },
      "source": [
        "z = 2 + 7j\r\n",
        "print(z.real)\r\n",
        "print(z.imag)\r\n",
        "print(z.conjugate())"
      ],
      "execution_count": 65,
      "outputs": [
        {
          "output_type": "stream",
          "text": [
            "2.0\n",
            "7.0\n",
            "(2-7j)\n"
          ],
          "name": "stdout"
        }
      ]
    }
  ]
}