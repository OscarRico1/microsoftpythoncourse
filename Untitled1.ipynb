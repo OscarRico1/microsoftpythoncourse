{
  "nbformat": 4,
  "nbformat_minor": 0,
  "metadata": {
    "colab": {
      "name": "Untitled1.ipynb",
      "provenance": [],
      "collapsed_sections": []
    },
    "kernelspec": {
      "name": "python3",
      "display_name": "Python 3"
    }
  },
  "cells": [
    {
      "cell_type": "markdown",
      "metadata": {
        "id": "yGGCfR9SXqmS"
      },
      "source": [
        "#**Listas y Tuplas**\r\n",
        "\r\n",
        "\r\n",
        "```\r\n",
        "*Listas y tupplas\r\n",
        "*Diccionarios y conjuntos\r\n",
        "*Otros\r\n",
        "Las listas y tuplas tienen un indice asociado\r\n",
        "Las listas y tuplas tienen una longitud(numero de elementos) asociados\r\n",
        "se puede hacer slicing\r\n",
        "```\r\n",
        "\r\n",
        "\r\n",
        "\r\n",
        "```\r\n",
        "my_list = [1.0, 2.0, 3.0]\r\n",
        "my_tuple = (1.0, 2.0, 3.0)\r\n",
        "my_dict = {\r\n",
        "  'day': 2\r\n",
        "  'month': 'March'\r\n",
        "```\r\n",
        "\r\n",
        "\r\n",
        "\r\n",
        "\r\n"
      ]
    },
    {
      "cell_type": "code",
      "metadata": {
        "colab": {
          "base_uri": "https://localhost:8080/"
        },
        "id": "4o4AJbNRXg4N",
        "outputId": "1f625aa1-4472-4930-c34e-e512891b5c16"
      },
      "source": [
        "taquerias =[\r\n",
        "            'Los Güeros', #[0]\r\n",
        "            'Los Pepes',  #[1]\r\n",
        "            'Los Papis',  #[2]\r\n",
        "            'Takesabroso',#[3]\r\n",
        "            'El Takeshi'  #[4]\r\n",
        "]\r\n",
        "#impresion de todo\r\n",
        "print(taquerias)\r\n",
        "#impresion por parte de la lista o tupla\r\n",
        "print(taquerias[0])\r\n",
        "print(taquerias[1])\r\n",
        "print(taquerias[2])\r\n",
        "print(taquerias[3])\r\n",
        "print(taquerias[4])\r\n",
        "#impresion del tamaño de la lista o tupla\r\n",
        "print(len(taquerias))\r\n",
        "#una tupla es inmutable\r\n",
        "print(taquerias[3])\r\n",
        "taquerias[3] = 'taquerico'\r\n",
        "print(taquerias[3])"
      ],
      "execution_count": 18,
      "outputs": [
        {
          "output_type": "stream",
          "text": [
            "['Los Güeros', 'Los Pepes', 'Los Papis', 'Takesabroso', 'El Takeshi']\n",
            "Los Güeros\n",
            "Los Pepes\n",
            "Los Papis\n",
            "Takesabroso\n",
            "El Takeshi\n",
            "5\n",
            "Takesabroso\n",
            "taquerico\n"
          ],
          "name": "stdout"
        }
      ]
    },
    {
      "cell_type": "code",
      "metadata": {
        "colab": {
          "base_uri": "https://localhost:8080/"
        },
        "id": "jBzlSPK6sSfL",
        "outputId": "af25e8f1-8b09-44cb-f79d-79076b15b002"
      },
      "source": [
        "#inicio:fin 1 salto <- slicing\r\n",
        "print(taquerias)\r\n",
        "print(taquerias[0:len(taquerias):2])\r\n",
        "print(taquerias[1:3 + 1])"
      ],
      "execution_count": null,
      "outputs": [
        {
          "output_type": "stream",
          "text": [
            "['Los Güeros', 'Los Pepes', 'Los Papis', 'taquerico', 'El Takeshi']\n",
            "['Los Güeros', 'Los Papis', 'El Takeshi']\n",
            "['Los Pepes', 'Los Papis', 'taquerico']\n"
          ],
          "name": "stdout"
        }
      ]
    },
    {
      "cell_type": "code",
      "metadata": {
        "colab": {
          "base_uri": "https://localhost:8080/"
        },
        "id": "zpwUlnres8ic",
        "outputId": "6af2a271-f561-40c4-a3a0-eb614177fafb"
      },
      "source": [
        "m = [\r\n",
        "     [1, 0, 0],\r\n",
        "     [0, 1, 0],\r\n",
        "     [0, 0, 1]\r\n",
        "]\r\n",
        "#impresion de lista o tupla\r\n",
        "print(m)\r\n",
        "#impresion de forma de tabla\r\n",
        "import numpy as np\r\n",
        "print(np.array(m))"
      ],
      "execution_count": null,
      "outputs": [
        {
          "output_type": "stream",
          "text": [
            "[[1, 0, 0], [0, 1, 0], [0, 0, 1]]\n",
            "[[1 0 0]\n",
            " [0 1 0]\n",
            " [0 0 1]]\n"
          ],
          "name": "stdout"
        }
      ]
    },
    {
      "cell_type": "markdown",
      "metadata": {
        "id": "RvC2EuQRXpvp"
      },
      "source": [
        "#**Condicionales II**\r\n",
        "\r\n",
        "\r\n",
        "```\r\n",
        "1 in [1, 2, 3, 4, 5]\r\n",
        "```\r\n",
        "\r\n"
      ]
    },
    {
      "cell_type": "code",
      "metadata": {
        "colab": {
          "base_uri": "https://localhost:8080/"
        },
        "id": "9WtvgvVIt9_s",
        "outputId": "3e78480d-cfb7-46b4-9c81-8de4f499e2f3"
      },
      "source": [
        "#condicionales en una lista\r\n",
        "'taconixo' in taquerias"
      ],
      "execution_count": null,
      "outputs": [
        {
          "output_type": "execute_result",
          "data": {
            "text/plain": [
              "False"
            ]
          },
          "metadata": {
            "tags": []
          },
          "execution_count": 9
        }
      ]
    },
    {
      "cell_type": "code",
      "metadata": {
        "colab": {
          "base_uri": "https://localhost:8080/"
        },
        "id": "I1SuFH-WubvJ",
        "outputId": "1f924d8c-92db-49cf-f1c3-2d7401364832"
      },
      "source": [
        "taqueria = 'Tacos del Buho'\r\n",
        "if taqueria in taquerias:\r\n",
        "  print('Esta ubicada en Ixtapaluca')\r\n",
        "else:\r\n",
        "  print('No se donde se ubica')"
      ],
      "execution_count": null,
      "outputs": [
        {
          "output_type": "stream",
          "text": [
            "No se donde se ubica\n"
          ],
          "name": "stdout"
        }
      ]
    },
    {
      "cell_type": "markdown",
      "metadata": {
        "id": "WqRyTXS2u8TL"
      },
      "source": [
        "#**Ciclo for**\r\n",
        "\r\n",
        "\r\n",
        "```\r\n",
        "for element in collection\r\n",
        "```\r\n",
        "\r\n"
      ]
    },
    {
      "cell_type": "code",
      "metadata": {
        "colab": {
          "base_uri": "https://localhost:8080/"
        },
        "id": "K8a4DBS2ub3D",
        "outputId": "0c87ccd5-4906-4206-f5a7-9223de778c85"
      },
      "source": [
        "for takeria in taquerias:\r\n",
        "  n_nombre = takeria.upper()\r\n",
        "  print(n_nombre)"
      ],
      "execution_count": null,
      "outputs": [
        {
          "output_type": "stream",
          "text": [
            "LOS GÜEROS\n",
            "LOS PEPES\n",
            "LOS PAPIS\n",
            "TAQUERICO\n",
            "EL TAKESHI\n"
          ],
          "name": "stdout"
        }
      ]
    },
    {
      "cell_type": "code",
      "metadata": {
        "colab": {
          "base_uri": "https://localhost:8080/"
        },
        "id": "CAm0Skj7w9Ig",
        "outputId": "11527f86-fd10-4acc-a4d7-9c505b52b2fe"
      },
      "source": [
        "#ejemplo lista\r\n",
        "list(range(1,11))\r\n"
      ],
      "execution_count": null,
      "outputs": [
        {
          "output_type": "execute_result",
          "data": {
            "text/plain": [
              "[1, 2, 3, 4, 5, 6, 7, 8, 9, 10]"
            ]
          },
          "metadata": {
            "tags": []
          },
          "execution_count": 15
        }
      ]
    },
    {
      "cell_type": "code",
      "metadata": {
        "colab": {
          "base_uri": "https://localhost:8080/"
        },
        "id": "nB4YxMfIxTr8",
        "outputId": "80aecd38-b29f-4e70-b25b-4daad13ace96"
      },
      "source": [
        "#for\r\n",
        "for i in range(1, 11):\r\n",
        "  print(i)"
      ],
      "execution_count": null,
      "outputs": [
        {
          "output_type": "stream",
          "text": [
            "1\n",
            "2\n",
            "3\n",
            "4\n",
            "5\n",
            "6\n",
            "7\n",
            "8\n",
            "9\n",
            "10\n"
          ],
          "name": "stdout"
        }
      ]
    },
    {
      "cell_type": "code",
      "metadata": {
        "colab": {
          "base_uri": "https://localhost:8080/"
        },
        "id": "eEHyTS8BxWEk",
        "outputId": "3092acf8-d672-4089-a1b8-2780a6835793"
      },
      "source": [
        "alumnos = [\r\n",
        "           'Oscar',\r\n",
        "           'Nadia',\r\n",
        "           'Hector'\r\n",
        "]\r\n",
        "print(alumnos)\r\n",
        "#for\r\n",
        "for alumno in alumnos:\r\n",
        "  print(alumno)"
      ],
      "execution_count": null,
      "outputs": [
        {
          "output_type": "stream",
          "text": [
            "['Oscar', 'Nadia', 'Hector']\n",
            "Oscar\n",
            "Nadia\n",
            "Hector\n"
          ],
          "name": "stdout"
        }
      ]
    },
    {
      "cell_type": "code",
      "metadata": {
        "colab": {
          "base_uri": "https://localhost:8080/"
        },
        "id": "Z2YU0pyW0wl-",
        "outputId": "71b0469a-4d80-41d7-b716-bfc58214b952"
      },
      "source": [
        "for i in range(5):\r\n",
        "  print((i + 1) * '*')"
      ],
      "execution_count": null,
      "outputs": [
        {
          "output_type": "stream",
          "text": [
            "*\n",
            "**\n",
            "***\n",
            "****\n",
            "*****\n"
          ],
          "name": "stdout"
        }
      ]
    },
    {
      "cell_type": "code",
      "metadata": {
        "id": "vTLzoMzr075L"
      },
      "source": [
        ""
      ],
      "execution_count": null,
      "outputs": []
    },
    {
      "cell_type": "code",
      "metadata": {
        "id": "uE8vQV2JGD8x",
        "colab": {
          "base_uri": "https://localhost:8080/"
        },
        "outputId": "e3829ad7-1e20-4d2a-b5f1-c6fafb6f38c0"
      },
      "source": [
        "perritoz = [\n",
        "    \"https://i.pinimg.com/originals/70/fa/97/70fa97bac09e524bae4c006a1ead5512.jpg\",\n",
        "    \"https://i.pinimg.com/originals/21/c1/13/21c113e05f1a219989a0b07a03b1577a.jpg\",\n",
        "    \"https://i.pinimg.com/originals/63/96/0c/63960c5db954115a0b5d8868c0c7e8a0.jpg\"\n",
        "]\n",
        "\n",
        "print(perritoz)"
      ],
      "execution_count": null,
      "outputs": [
        {
          "output_type": "stream",
          "text": [
            "['https://i.pinimg.com/originals/70/fa/97/70fa97bac09e524bae4c006a1ead5512.jpg', 'https://i.pinimg.com/originals/21/c1/13/21c113e05f1a219989a0b07a03b1577a.jpg', 'https://i.pinimg.com/originals/63/96/0c/63960c5db954115a0b5d8868c0c7e8a0.jpg']\n"
          ],
          "name": "stdout"
        }
      ]
    },
    {
      "cell_type": "code",
      "metadata": {
        "colab": {
          "base_uri": "https://localhost:8080/",
          "height": 584
        },
        "id": "PVOVYzq81Ioc",
        "outputId": "07c7163e-8e88-4080-ca46-37d8c0a13ec5"
      },
      "source": [
        "from IPython.display import Image\r\n",
        "Image(url = perritoz[1])"
      ],
      "execution_count": null,
      "outputs": [
        {
          "output_type": "execute_result",
          "data": {
            "text/html": [
              "<img src=\"https://i.pinimg.com/originals/21/c1/13/21c113e05f1a219989a0b07a03b1577a.jpg\"/>"
            ],
            "text/plain": [
              "<IPython.core.display.Image object>"
            ]
          },
          "metadata": {
            "tags": []
          },
          "execution_count": 28
        }
      ]
    },
    {
      "cell_type": "markdown",
      "metadata": {
        "id": "VOsy9Plf1pCW"
      },
      "source": [
        "#**Funciones pt1**\r\n",
        "\r\n",
        "\r\n",
        "```\r\n",
        "def function_name (arguments:\r\n",
        "  #block code\r\n",
        "  #final block code\r\n",
        "  retirn somethings\r\n",
        "```\r\n",
        "\r\n"
      ]
    },
    {
      "cell_type": "code",
      "metadata": {
        "colab": {
          "base_uri": "https://localhost:8080/"
        },
        "id": "rKi0a7GvPzmK",
        "outputId": "562b6088-e5ea-48b4-c61f-4474caf34309"
      },
      "source": [
        "#definicion de funcion\r\n",
        "def F(masa):\r\n",
        "  a = 9.81\r\n",
        "  fuerza = masa * a\r\n",
        "  print(fuerza)\r\n",
        "#opciones de la funcion\r\n",
        "F(80)\r\n",
        "F(56)\r\n",
        "F(67)"
      ],
      "execution_count": 3,
      "outputs": [
        {
          "output_type": "stream",
          "text": [
            "784.8000000000001\n",
            "549.36\n",
            "657.27\n"
          ],
          "name": "stdout"
        }
      ]
    },
    {
      "cell_type": "code",
      "metadata": {
        "colab": {
          "base_uri": "https://localhost:8080/"
        },
        "id": "c6CF3WQAQ0Yk",
        "outputId": "37b3b71d-3495-4ada-9e86-32895847c3dc"
      },
      "source": [
        "#definicion de funcion\r\n",
        "def segunda_de_Newton(masa, aceleracion):\r\n",
        "  fuerza = masa * aceleracion\r\n",
        "  return fuerza\r\n",
        "# resultado\r\n",
        "print('Fuerza de la tierra')\r\n",
        "segunda_de_Newton(50, 9.81)\r\n"
      ],
      "execution_count": 8,
      "outputs": [
        {
          "output_type": "stream",
          "text": [
            "Fuerza de la tierra\n"
          ],
          "name": "stdout"
        },
        {
          "output_type": "execute_result",
          "data": {
            "text/plain": [
              "490.5"
            ]
          },
          "metadata": {
            "tags": []
          },
          "execution_count": 8
        }
      ]
    },
    {
      "cell_type": "code",
      "metadata": {
        "colab": {
          "base_uri": "https://localhost:8080/"
        },
        "id": "XKB0irK7Ws-6",
        "outputId": "f1c06648-a62e-4024-a342-8e820d33fbf9"
      },
      "source": [
        "print('Fuerza en la luna')\r\n",
        "segunda_de_Newton(50, 1.62)"
      ],
      "execution_count": 7,
      "outputs": [
        {
          "output_type": "stream",
          "text": [
            "Fuerza en la luna\n"
          ],
          "name": "stdout"
        },
        {
          "output_type": "execute_result",
          "data": {
            "text/plain": [
              "81.0"
            ]
          },
          "metadata": {
            "tags": []
          },
          "execution_count": 7
        }
      ]
    },
    {
      "cell_type": "code",
      "metadata": {
        "id": "o-QzKA94WvQO"
      },
      "source": [
        "#ej variables locales/globales\r\n",
        "def f(masa, acel):\r\n",
        "  global taquerias\r\n",
        "  taquerias.append('Luna')\r\n",
        "  f = masa * acel\r\n",
        "  return f\r\n"
      ],
      "execution_count": 31,
      "outputs": []
    },
    {
      "cell_type": "code",
      "metadata": {
        "colab": {
          "base_uri": "https://localhost:8080/"
        },
        "id": "94FBdRcraYYd",
        "outputId": "aabfb21d-4e00-45b7-87ac-e1dae2212476"
      },
      "source": [
        "f(50, 1.62)\r\n"
      ],
      "execution_count": 32,
      "outputs": [
        {
          "output_type": "execute_result",
          "data": {
            "text/plain": [
              "81.0"
            ]
          },
          "metadata": {
            "tags": []
          },
          "execution_count": 32
        }
      ]
    },
    {
      "cell_type": "code",
      "metadata": {
        "colab": {
          "base_uri": "https://localhost:8080/"
        },
        "id": "eVhUFUU1bhtR",
        "outputId": "f55eb09d-8681-4270-da10-2a658e5f9628"
      },
      "source": [
        "print(taquerias)"
      ],
      "execution_count": 33,
      "outputs": [
        {
          "output_type": "stream",
          "text": [
            "['Los Güeros', 'Los Pepes', 'Los Papis', 'taquerico', 'El Takeshi', 'Luna']\n"
          ],
          "name": "stdout"
        }
      ]
    }
  ]
}